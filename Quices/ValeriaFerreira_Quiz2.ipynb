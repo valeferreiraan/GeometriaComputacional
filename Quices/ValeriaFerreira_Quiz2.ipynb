{
 "cells": [
  {
   "cell_type": "markdown",
   "metadata": {},
   "source": [
    "# **Quiz 2**\n",
    "Valeria Ferreira Nocua\n",
    "Septiembre 20, 2023"
   ]
  },
  {
   "cell_type": "markdown",
   "metadata": {},
   "source": [
    "Consider the simple polygon given by the sequence of points $P$.\n",
    "\n",
    "\n",
    "Let $P = ((8,6), (11,15), (13,13), (12,1), (9,0.5))$\n",
    "\n",
    "We already have an algorithm that generates the doucly-connected edge list of a simple polygon. Develop an algorithm that adds a diagonal linking two vertex and updates the doubly connected edge list. **The output must be the updated list of half-edges**"
   ]
  },
  {
   "cell_type": "code",
   "execution_count": 183,
   "metadata": {},
   "outputs": [],
   "source": [
    "import numpy as np\n",
    "import matplotlib.pyplot as plt\n",
    "import pandas as pd"
   ]
  },
  {
   "cell_type": "code",
   "execution_count": 184,
   "metadata": {},
   "outputs": [],
   "source": [
    "#clase punto que es para un vértice, tiene x, y, y su nombre\n",
    "class Point:\n",
    "  #constructor\n",
    "  def __init__(self, x, y, name):\n",
    "    self.x = x\n",
    "    self.y = y\n",
    "    self.name = name\n",
    "    self.type = None\n",
    "  #metodos de la clase\n",
    "  def __repr__(self):\n",
    "    return(f\"({self.x}, {self.y})\")\n",
    "\n",
    "  def __str__(self):\n",
    "    return(f\"({self.x}, {self.y})\")"
   ]
  },
  {
   "cell_type": "code",
   "execution_count": 185,
   "metadata": {},
   "outputs": [],
   "source": [
    "class Edge:\n",
    "  def __init__(self, startp, endp):\n",
    "    self.startp = startp\n",
    "    self.endp = endp\n",
    "\n",
    "  def __repr__(self):\n",
    "    return(f\"(inicio: {self.startp}, final: {self.endp})\")"
   ]
  },
  {
   "cell_type": "code",
   "execution_count": 186,
   "metadata": {},
   "outputs": [],
   "source": [
    "#graficar ploigonooos\n",
    "def polygon(points):\n",
    "  xcoor = []\n",
    "  ycoor = []\n",
    "  for i in points:\n",
    "    plt.scatter(i.x, i.y, marker = 'o', color = 'darkviolet')\n",
    "    xcoor.append(i.x)\n",
    "    ycoor.append(i.y)\n",
    "    plt.annotate(i.name, xy=[i.x, i.y])\n",
    "  xcoor.append(points[0].x)\n",
    "  ycoor.append(points[0].y)\n",
    "  plt.plot(xcoor, ycoor,color = 'hotpink')\n",
    "  \n",
    "  \n",
    "  plt.show()"
   ]
  },
  {
   "cell_type": "code",
   "execution_count": 187,
   "metadata": {},
   "outputs": [],
   "source": [
    "def toPoint(P):\n",
    "  #pasa una lista de puntos a una lista de elementos de la clase puntos\n",
    "  points = []\n",
    "  for i in range(len(P)):\n",
    "    points.append(Point(P[i][0], P[i][1], 'p' + str(i+1)))\n",
    "  \n",
    "  return points"
   ]
  },
  {
   "cell_type": "code",
   "execution_count": 188,
   "metadata": {},
   "outputs": [
    {
     "data": {
      "image/png": "[encoded data removed]",
      "text/plain": [
       "<Figure size 640x480 with 1 Axes>"
      ]
     },
     "metadata": {},
     "output_type": "display_data"
    }
   ],
   "source": [
    "P = [(8,6), (11,15), (13,13), (12,1), (9,0.5)]\n",
    "vertex = toPoint(P)\n",
    "polygon(vertex)"
   ]
  },
  {
   "cell_type": "code",
   "execution_count": 189,
   "metadata": {},
   "outputs": [],
   "source": [
    "#semi arista\n",
    "class HalfEdge:\n",
    "  def __init__(self, startp, endp):\n",
    "    self.startp = startp\n",
    "    self.endp = endp\n",
    "    self.twin = None\n",
    "    self.next = None\n",
    "    self.prev = None\n",
    "    self.face = None\n",
    "    self.name = f'e{startp.name[1]}1'\n",
    "\n",
    "  def __repr__(self):\n",
    "    #return(f\"(inicio: {self.startp}, final: {self.endp})\")\n",
    "    return (f'{self.name}')"
   ]
  },
  {
   "cell_type": "code",
   "execution_count": 190,
   "metadata": {},
   "outputs": [],
   "source": [
    "#Saca las aristas del polígono\n",
    "def EdgesList(points):\n",
    "\n",
    "  edges = []\n",
    "  for i in range(len(points)-1):\n",
    "    e = HalfEdge(points[i], points[i+1])\n",
    "    edges.append(e)\n",
    "\n",
    "  edges.append(HalfEdge(points[-1], points[0]))\n",
    "  return edges\n",
    "\n",
    "#Twin de la semi arista\n",
    "def twin(x):\n",
    "  if x.name[2] == \"1\":\n",
    "    return str(x.name[0]+x.name[1]+\"2\")\n",
    "  else:\n",
    "    return str(x.name[0] + x.name[1] + \"1\")\n",
    "  \n",
    "#Asigna prev, next y twin a la semi arista\n",
    "def AssignValues (edges):\n",
    "\n",
    "\n",
    "  for i in range(len(edges)-1):\n",
    "    e = edges[i]\n",
    "    e.next = edges[i+1]\n",
    "    e.prev = edges[i-1]\n",
    "    e.twin = twin(e)\n",
    "  \n",
    "  e = edges[-1]\n",
    "  e.next = edges[0]\n",
    "  e.prev = edges[-2]\n",
    "  e.twin = twin(e)\n",
    "\n",
    "  return edges\n",
    "\n",
    "#Saca la lista de aristas en un dataframe\n",
    "def ListOfedges(edges):\n",
    "    names, origin, twins, next, prev, face = [],[],[],[],[],[]\n",
    "    for e in edges:\n",
    "      names.append(e)\n",
    "      origin.append(e.startp)\n",
    "      twins.append(e.twin)\n",
    "      next.append(e.next)\n",
    "      prev.append(e.prev)\n",
    "      face.append(e.face)\n",
    "\n",
    "    df = {'Arista': names, 'Origen': origin, 'Twin': twins, 'Next': next, \n",
    "          'Previous': prev, 'CaraIn': face}\n",
    "    dcel = pd.DataFrame(df)\n",
    "\n",
    "    return dcel"
   ]
  },
  {
   "cell_type": "code",
   "execution_count": 191,
   "metadata": {},
   "outputs": [
    {
     "data": {
      "text/html": [
       "<div>\n",
       "<style scoped>\n",
       "    .dataframe tbody tr th:only-of-type {\n",
       "        vertical-align: middle;\n",
       "    }\n",
       "\n",
       "    .dataframe tbody tr th {\n",
       "        vertical-align: top;\n",
       "    }\n",
       "\n",
       "    .dataframe thead th {\n",
       "        text-align: right;\n",
       "    }\n",
       "</style>\n",
       "<table border=\"1\" class=\"dataframe\">\n",
       "  <thead>\n",
       "    <tr style=\"text-align: right;\">\n",
       "      <th></th>\n",
       "      <th>Arista</th>\n",
       "      <th>Origen</th>\n",
       "      <th>Twin</th>\n",
       "      <th>Next</th>\n",
       "      <th>Previous</th>\n",
       "      <th>CaraIn</th>\n",
       "    </tr>\n",
       "  </thead>\n",
       "  <tbody>\n",
       "    <tr>\n",
       "      <th>0</th>\n",
       "      <td>e11</td>\n",
       "      <td>(8, 6)</td>\n",
       "      <td>e12</td>\n",
       "      <td>e21</td>\n",
       "      <td>e51</td>\n",
       "      <td>None</td>\n",
       "    </tr>\n",
       "    <tr>\n",
       "      <th>1</th>\n",
       "      <td>e21</td>\n",
       "      <td>(11, 15)</td>\n",
       "      <td>e22</td>\n",
       "      <td>e31</td>\n",
       "      <td>e11</td>\n",
       "      <td>None</td>\n",
       "    </tr>\n",
       "    <tr>\n",
       "      <th>2</th>\n",
       "      <td>e31</td>\n",
       "      <td>(13, 13)</td>\n",
       "      <td>e32</td>\n",
       "      <td>e41</td>\n",
       "      <td>e21</td>\n",
       "      <td>None</td>\n",
       "    </tr>\n",
       "    <tr>\n",
       "      <th>3</th>\n",
       "      <td>e41</td>\n",
       "      <td>(12, 1)</td>\n",
       "      <td>e42</td>\n",
       "      <td>e51</td>\n",
       "      <td>e31</td>\n",
       "      <td>None</td>\n",
       "    </tr>\n",
       "    <tr>\n",
       "      <th>4</th>\n",
       "      <td>e51</td>\n",
       "      <td>(9, 0.5)</td>\n",
       "      <td>e52</td>\n",
       "      <td>e11</td>\n",
       "      <td>e41</td>\n",
       "      <td>None</td>\n",
       "    </tr>\n",
       "  </tbody>\n",
       "</table>\n",
       "</div>"
      ],
      "text/plain": [
       "  Arista    Origen Twin Next Previous CaraIn\n",
       "0    e11    (8, 6)  e12  e21      e51   None\n",
       "1    e21  (11, 15)  e22  e31      e11   None\n",
       "2    e31  (13, 13)  e32  e41      e21   None\n",
       "3    e41   (12, 1)  e42  e51      e31   None\n",
       "4    e51  (9, 0.5)  e52  e11      e41   None"
      ]
     },
     "execution_count": 191,
     "metadata": {},
     "output_type": "execute_result"
    }
   ],
   "source": [
    "edges = EdgesList(vertex)\n",
    "edges = AssignValues(edges)\n",
    "\n",
    "doublyConnected = ListOfedges(edges)\n",
    "doublyConnected"
   ]
  },
  {
   "cell_type": "markdown",
   "metadata": {},
   "source": [
    "> Vamos a hacer un cógigo que agregue una nueva diagonal y actualice la lista de aristas\n",
    ">\n",
    ">La función *newEdge* recibe como parámetros los puntos de inicio y fin de la nueva diagonal, y la lista de semiaristas que se creó anteriormente"
   ]
  },
  {
   "cell_type": "code",
   "execution_count": 192,
   "metadata": {},
   "outputs": [],
   "source": [
    "def newEdge(startp, endp, df, edges):\n",
    "    #creamos una nueva semiarista que será la diagonal con los puntos dados\n",
    "    new = HalfEdge(startp, endp)\n",
    "    #Asignamos el nombre\n",
    "    new.name = f'e{startp.name[1]}3' #El nombre de las diagonales será e + numero del vertice + 3\n",
    "    #Creamos los nuevos datos\n",
    "    newData = {'Arista': [new.name], 'Origen': [new.startp], 'Twin': [new.twin], 'Next': [new.next], \n",
    "          'Previous': [new.prev], 'CaraIn': [new.face]}\n",
    "    #Los ponemos en un dataframe y creamos un dataframe nuevo con los datos actualizados\n",
    "    df2 = pd.DataFrame(newData)\n",
    "    newDf = pd.concat([df, df2], ignore_index = True)\n",
    "    newDf.reset_index()\n",
    "\n",
    "    edges.append(new)\n",
    "    \n",
    "    return newDf\n",
    "\n",
    "    "
   ]
  },
  {
   "cell_type": "code",
   "execution_count": 193,
   "metadata": {},
   "outputs": [
    {
     "data": {
      "text/html": [
       "<div>\n",
       "<style scoped>\n",
       "    .dataframe tbody tr th:only-of-type {\n",
       "        vertical-align: middle;\n",
       "    }\n",
       "\n",
       "    .dataframe tbody tr th {\n",
       "        vertical-align: top;\n",
       "    }\n",
       "\n",
       "    .dataframe thead th {\n",
       "        text-align: right;\n",
       "    }\n",
       "</style>\n",
       "<table border=\"1\" class=\"dataframe\">\n",
       "  <thead>\n",
       "    <tr style=\"text-align: right;\">\n",
       "      <th></th>\n",
       "      <th>Arista</th>\n",
       "      <th>Origen</th>\n",
       "      <th>Twin</th>\n",
       "      <th>Next</th>\n",
       "      <th>Previous</th>\n",
       "      <th>CaraIn</th>\n",
       "    </tr>\n",
       "  </thead>\n",
       "  <tbody>\n",
       "    <tr>\n",
       "      <th>0</th>\n",
       "      <td>e11</td>\n",
       "      <td>(8, 6)</td>\n",
       "      <td>e12</td>\n",
       "      <td>e21</td>\n",
       "      <td>e51</td>\n",
       "      <td>None</td>\n",
       "    </tr>\n",
       "    <tr>\n",
       "      <th>1</th>\n",
       "      <td>e21</td>\n",
       "      <td>(11, 15)</td>\n",
       "      <td>e22</td>\n",
       "      <td>e31</td>\n",
       "      <td>e11</td>\n",
       "      <td>None</td>\n",
       "    </tr>\n",
       "    <tr>\n",
       "      <th>2</th>\n",
       "      <td>e31</td>\n",
       "      <td>(13, 13)</td>\n",
       "      <td>e32</td>\n",
       "      <td>e41</td>\n",
       "      <td>e21</td>\n",
       "      <td>None</td>\n",
       "    </tr>\n",
       "    <tr>\n",
       "      <th>3</th>\n",
       "      <td>e41</td>\n",
       "      <td>(12, 1)</td>\n",
       "      <td>e42</td>\n",
       "      <td>e51</td>\n",
       "      <td>e31</td>\n",
       "      <td>None</td>\n",
       "    </tr>\n",
       "    <tr>\n",
       "      <th>4</th>\n",
       "      <td>e51</td>\n",
       "      <td>(9, 0.5)</td>\n",
       "      <td>e52</td>\n",
       "      <td>e11</td>\n",
       "      <td>e41</td>\n",
       "      <td>None</td>\n",
       "    </tr>\n",
       "    <tr>\n",
       "      <th>5</th>\n",
       "      <td>e13</td>\n",
       "      <td>(8, 6)</td>\n",
       "      <td>None</td>\n",
       "      <td>None</td>\n",
       "      <td>None</td>\n",
       "      <td>None</td>\n",
       "    </tr>\n",
       "  </tbody>\n",
       "</table>\n",
       "</div>"
      ],
      "text/plain": [
       "  Arista    Origen  Twin  Next Previous CaraIn\n",
       "0    e11    (8, 6)   e12   e21      e51   None\n",
       "1    e21  (11, 15)   e22   e31      e11   None\n",
       "2    e31  (13, 13)   e32   e41      e21   None\n",
       "3    e41   (12, 1)   e42   e51      e31   None\n",
       "4    e51  (9, 0.5)   e52   e11      e41   None\n",
       "5    e13    (8, 6)  None  None     None   None"
      ]
     },
     "execution_count": 193,
     "metadata": {},
     "output_type": "execute_result"
    }
   ],
   "source": [
    "newEdge(vertex[0], vertex[2], doublyConnected, edges)\n"
   ]
  },
  {
   "cell_type": "code",
   "execution_count": 194,
   "metadata": {},
   "outputs": [],
   "source": [
    "def polygonByEdges(edges):\n",
    "  xcoor = []\n",
    "  ycoor = []\n",
    "  xdiag = []\n",
    "  ydiag = []\n",
    "  for i in edges:\n",
    "    plt.scatter(i.startp.x, i.startp.y, marker = 'o', color = 'darkviolet')\n",
    "    plt.scatter(i.endp.x, i.endp.y, marker = 'o', color = 'darkviolet')\n",
    "    if i.name[2] == '3':\n",
    "      xdiag.append(i.startp.x)\n",
    "      xdiag.append(i.endp.x)\n",
    "      ydiag.append(i.startp.y)\n",
    "      ydiag.append(i.endp.y)\n",
    "    else:\n",
    "      xcoor.append(i.startp.x)\n",
    "      ycoor.append(i.startp.y)\n",
    "      xcoor.append(i.endp.x)\n",
    "      ycoor.append(i.endp.y)\n",
    "    plt.annotate(i.startp.name, xy=[i.startp.x, i.startp.y])\n",
    "  \n",
    "  \n",
    "  plt.plot(xcoor, ycoor,color = 'hotpink')\n",
    "  plt.plot(xdiag, ydiag, color = 'red')\n",
    "  \n",
    "  \n",
    "  plt.show()  "
   ]
  },
  {
   "cell_type": "code",
   "execution_count": 195,
   "metadata": {},
   "outputs": [
    {
     "data": {
      "image/png": "[encoded data removed]",
      "text/plain": [
       "<Figure size 640x480 with 1 Axes>"
      ]
     },
     "metadata": {},
     "output_type": "display_data"
    }
   ],
   "source": [
    "#graficar las nuevas diagonales de diferente color \n",
    "polygonByEdges(edges)"
   ]
  }
 ],
 "metadata": {
  "kernelspec": {
   "display_name": "Python 3",
   "language": "python",
   "name": "python3"
  },
  "language_info": {
   "codemirror_mode": {
    "name": "ipython",
    "version": 3
   },
   "file_extension": ".py",
   "mimetype": "text/x-python",
   "name": "python",
   "nbconvert_exporter": "python",
   "pygments_lexer": "ipython3",
   "version": "3.11.4"
  },
  "orig_nbformat": 4
 },
 "nbformat": 4,
 "nbformat_minor": 2
}
