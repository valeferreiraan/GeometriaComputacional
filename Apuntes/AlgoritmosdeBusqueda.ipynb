{
 "cells": [
  {
   "cell_type": "markdown",
   "metadata": {},
   "source": [
    "# **Búsqueda**"
   ]
  },
  {
   "cell_type": "markdown",
   "metadata": {},
   "source": [
    "Referencias de colores:\n",
    "- Blanco: Fuera del intervalo de búsqueda\n",
    "- Gris claro: recorrido del proceso de búsqueda\n",
    "- Gris oscuro: Dentro del intervalo de búsqueda"
   ]
  },
  {
   "cell_type": "markdown",
   "metadata": {},
   "source": [
    "## **Búsqueda de Rango Ortogonal**\n",
    "Supongamos que tenemos el siguiente conjunto de valores\n"
   ]
  },
  {
   "cell_type": "markdown",
   "metadata": {},
   "source": [
    "## **Algoritmo 1D Query:**\n",
    "**Entrada:** Árbol $\\tau$, intervalo $[x:x']$\n",
    "\n",
    "**Salida:** Puntos dentro del rango de búsqueda\n",
    "\n",
    "1. $\\nu_{split} \\leftarrow $  encontrar Nodo Split ($\\tau, [x:x']$)\n",
    "2. If $\\nu_{split}$ es una hoja:\n",
    "3. -> Verifico si $X_{\\nu split}$ está en el rango de búsqueda. Se reporta al resultado en caso afirmativo.\n",
    "4. Else:\n",
    "\n",
    "    -> $\\nu \\leftarrow lc(\\nu_{split})$\n",
    "\n",
    "5.  -> while $\\nu$ no sea una hoja:\n",
    "\n",
    "6.  -> -> if $x \\le x_{\\nu}$:\n",
    "\n",
    "    -> -> ->  Reporto a resultado los puntos en el sub-árbol con root $rc(\\nu)$\n",
    "\n",
    "    -> -> -> $\\nu \\leftarrow lc(\\nu)$\n",
    "\n",
    "7.  -> -> Else: $\\nu \\leftarrow rc(\\nu)$\n",
    "8.  -> Verifico si $X_{\\nu} \\le X$. Reporto los puntos del sub-árbol derecho con $X'$. Siempre que avance a la derecha reporto los puntos del sub-árbol izquierdo."
   ]
  },
  {
   "cell_type": "markdown",
   "metadata": {},
   "source": [
    "> Este era el caso unidimensional (1D), a la generalización de esto, le llamamos **Árboles KD**\n",
    "> \n",
    "> $P_i \\in [X:X'] x [Y:Y'] \\Rightarrow P_{ix}\\in [X:X'] ~\\&~ P_{iy}\\in[Y:Y']$"
   ]
  },
  {
   "cell_type": "markdown",
   "metadata": {},
   "source": [
    "## **Árboles KD**\n",
    "\n",
    "- Mediana: valor intermedio en un conjunto de puntos ordenados.\n",
    "\n",
    "- Si el conjunto tiene una cantidad par de elementos, encuentro la pareja de la mitad y selecciono el menor. \n",
    "\n",
    "**Nodos:** Registrar rectas horizontales y verticales que sub-dividen el espacio\n",
    "\n",
    "**Hoja:** Puntos que están en cada subdivisión.\n",
    "\n",
    "- Profundidad par $\\rightarrow$ Rectas verticales\n",
    "- Profundidad impar $\\rightarrow$ Rectas horizontales"
   ]
  },
  {
   "cell_type": "markdown",
   "metadata": {},
   "source": [
    "### **ConstruirArbolkd($P$, depth)**\n",
    "**Entrada:** Conjunto de puntos $P$ en el plano, Profundidad actual en el árbol.\n",
    "\n",
    "**Salida:** Nodo root $\\nu$ del sub-árbol que contiene los puntos $P$\n",
    "\n",
    "1. If $P$ tiene un único elemento:\n",
    "2. $\\rightarrow$ Then: return una hoja almacenando el punto $P$\n",
    "3. Else: \n",
    "    \n",
    "    $\\rightarrow$ If depth es par:\n",
    "4. $\\rightarrow$ $\\rightarrow$  separo el conjunto $P$ con una recta vertical $\\ell$ que pasa por el punto que tiene la mediana de las coordenadas \"$x$\".\n",
    "\n",
    "    Sean $P_1$ y $P_2$, los puntos con coordenadas \"$x$\" meno o igual que $\\ell$, y mayor que $\\ell$, respectivamente.\n",
    "5. $\\rightarrow$  Else:\n",
    "6. $\\rightarrow$ $\\rightarrow$ Separo el conjunto $P$ con una recta horizontal que pasa por el punto que tiene la mediana de las coordenadas \"$y$\"\n",
    "\n",
    "    Sean $P_1$ y $P_2$ los puntos cuya coordenada \"$y$\" es mejor o igual que $\\ell$, $y$ mayor a $\\ell$, respectivamente.\n",
    "7. $\\rightarrow$ $\\rightarrow$ (sigo dentro del else).\n",
    "\n",
    "    $\\nu_{left} \\leftarrow$ ConstruirArbolkd($P_1$, depth+1)\n",
    "\n",
    "    $\\nu{right} \\leftarrow$ ConstruirArbolkd($P_2$, depth+1)\n",
    "8. $\\rightarrow$ $\\rightarrow$ Defino un nodo $\\nu$ que almacena la recta $\\ell$ cuyo $lc(\\nu)$ es $\\nu_{left}$ y $rc(\\nu)$ es $\\nu_{right}$\n",
    "\n",
    "9. Return $\\nu$ (afuera de todo)"
   ]
  },
  {
   "cell_type": "markdown",
   "metadata": {},
   "source": []
  },
  {
   "cell_type": "code",
   "execution_count": null,
   "metadata": {},
   "outputs": [],
   "source": []
  }
 ],
 "metadata": {
  "language_info": {
   "name": "python"
  },
  "orig_nbformat": 4
 },
 "nbformat": 4,
 "nbformat_minor": 2
}
